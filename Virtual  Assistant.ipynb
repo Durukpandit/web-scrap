{
 "cells": [
  {
   "cell_type": "code",
   "execution_count": 1,
   "id": "8b25df57",
   "metadata": {},
   "outputs": [
    {
     "name": "stdout",
     "output_type": "stream",
     "text": [
      "Collecting SpeechRecognitionNote: you may need to restart the kernel to use updated packages.\n",
      "  Downloading SpeechRecognition-3.8.1-py2.py3-none-any.whl (32.8 MB)\n",
      "Installing collected packages: SpeechRecognition\n",
      "Successfully installed SpeechRecognition-3.8.1\n",
      "\n"
     ]
    }
   ],
   "source": [
    "pip install SpeechRecognition"
   ]
  },
  {
   "cell_type": "code",
   "execution_count": 2,
   "id": "9b4a4cf1",
   "metadata": {},
   "outputs": [
    {
     "name": "stdout",
     "output_type": "stream",
     "text": [
      "Collecting pyttsx3\n",
      "  Downloading pyttsx3-2.90-py3-none-any.whl (39 kB)\n",
      "Requirement already satisfied: comtypes in c:\\programdata\\anaconda3\\lib\\site-packages (from pyttsx3) (1.1.9)\n",
      "Requirement already satisfied: pywin32 in c:\\programdata\\anaconda3\\lib\\site-packages (from pyttsx3) (227)\n",
      "Collecting pypiwin32\n",
      "  Downloading pypiwin32-223-py3-none-any.whl (1.7 kB)\n",
      "Installing collected packages: pypiwin32, pyttsx3\n",
      "Successfully installed pypiwin32-223 pyttsx3-2.90\n",
      "Note: you may need to restart the kernel to use updated packages.\n"
     ]
    }
   ],
   "source": [
    "pip install pyttsx3"
   ]
  },
  {
   "cell_type": "code",
   "execution_count": 9,
   "id": "236f5b2a",
   "metadata": {},
   "outputs": [
    {
     "name": "stdout",
     "output_type": "stream",
     "text": [
      "Requirement already satisfied: PyAudio in c:\\programdata\\anaconda3\\lib\\site-packages (0.2.11)Note: you may need to restart the kernel to use updated packages.\n",
      "\n"
     ]
    }
   ],
   "source": [
    "pip install PyAudio"
   ]
  },
  {
   "cell_type": "code",
   "execution_count": 40,
   "id": "6bcd26c6",
   "metadata": {},
   "outputs": [
    {
     "name": "stdout",
     "output_type": "stream",
     "text": [
      "Collecting Wikipedia-APINote: you may need to restart the kernel to use updated packages.\n",
      "\n",
      "  Downloading Wikipedia-API-0.5.4.tar.gz (18 kB)\n",
      "Requirement already satisfied: requests in c:\\programdata\\anaconda3\\lib\\site-packages (from Wikipedia-API) (2.25.1)\n",
      "Requirement already satisfied: chardet<5,>=3.0.2 in c:\\programdata\\anaconda3\\lib\\site-packages (from requests->Wikipedia-API) (4.0.0)\n",
      "Requirement already satisfied: certifi>=2017.4.17 in c:\\programdata\\anaconda3\\lib\\site-packages (from requests->Wikipedia-API) (2020.12.5)\n",
      "Requirement already satisfied: urllib3<1.27,>=1.21.1 in c:\\programdata\\anaconda3\\lib\\site-packages (from requests->Wikipedia-API) (1.26.4)\n",
      "Requirement already satisfied: idna<3,>=2.5 in c:\\programdata\\anaconda3\\lib\\site-packages (from requests->Wikipedia-API) (2.10)\n",
      "Building wheels for collected packages: Wikipedia-API\n",
      "  Building wheel for Wikipedia-API (setup.py): started\n",
      "  Building wheel for Wikipedia-API (setup.py): finished with status 'done'\n",
      "  Created wheel for Wikipedia-API: filename=Wikipedia_API-0.5.4-py3-none-any.whl size=13462 sha256=57268de4ed207eab0ffe6fff4260340263eaadbc01ba200cabb3e16b8af981b4\n",
      "  Stored in directory: c:\\users\\akash\\appdata\\local\\pip\\cache\\wheels\\ed\\88\\e3\\da3d4d73cb91d659488cfa25913b84bbc26febec99d257bce9\n",
      "Successfully built Wikipedia-API\n",
      "Installing collected packages: Wikipedia-API\n",
      "Successfully installed Wikipedia-API-0.5.4\n"
     ]
    }
   ],
   "source": [
    "pip install Wikipedia-API"
   ]
  },
  {
   "cell_type": "code",
   "execution_count": 28,
   "id": "e0a6886e",
   "metadata": {},
   "outputs": [
    {
     "name": "stdout",
     "output_type": "stream",
     "text": [
      "Collecting pywhatkitNote: you may need to restart the kernel to use updated packages.\n",
      "  Downloading pywhatkit-5.1-py3-none-any.whl (12 kB)\n",
      "Requirement already satisfied: Pillow in c:\\programdata\\anaconda3\\lib\\site-packages (from pywhatkit) (8.2.0)\n",
      "Requirement already satisfied: requests in c:\\programdata\\anaconda3\\lib\\site-packages (from pywhatkit) (2.25.1)\n",
      "Collecting pyautogui\n",
      "  Downloading PyAutoGUI-0.9.53.tar.gz (59 kB)\n",
      "Collecting wikipedia\n",
      "  Downloading wikipedia-1.4.0.tar.gz (27 kB)\n",
      "Collecting pymsgbox\n",
      "  Downloading PyMsgBox-1.0.9.tar.gz (18 kB)\n",
      "  Installing build dependencies: started\n",
      "  Installing build dependencies: finished with status 'done'\n",
      "  Getting requirements to build wheel: started\n",
      "  Getting requirements to build wheel: finished with status 'done'\n",
      "    Preparing wheel metadata: started\n",
      "    Preparing wheel metadata: finished with status 'done'\n",
      "Collecting PyTweening>=1.0.1\n",
      "  Downloading pytweening-1.0.4.tar.gz (14 kB)\n",
      "Collecting pyscreeze>=0.1.21\n",
      "  Downloading PyScreeze-0.1.28.tar.gz (25 kB)\n",
      "  Installing build dependencies: started\n",
      "  Installing build dependencies: finished with status 'done'\n",
      "  Getting requirements to build wheel: started\n",
      "  Getting requirements to build wheel: finished with status 'done'\n",
      "    Preparing wheel metadata: started\n",
      "    Preparing wheel metadata: finished with status 'done'\n",
      "Collecting pygetwindow>=0.0.5\n",
      "  Downloading PyGetWindow-0.0.9.tar.gz (9.7 kB)\n",
      "Collecting mouseinfo\n",
      "  Downloading MouseInfo-0.1.3.tar.gz (10 kB)\n",
      "Collecting pyrect\n",
      "  Downloading PyRect-0.1.4.tar.gz (15 kB)\n",
      "Collecting pyperclip\n",
      "  Downloading pyperclip-1.8.2.tar.gz (20 kB)\n",
      "Requirement already satisfied: certifi>=2017.4.17 in c:\\programdata\\anaconda3\\lib\\site-packages (from requests->pywhatkit) (2020.12.5)\n",
      "Requirement already satisfied: chardet<5,>=3.0.2 in c:\\programdata\\anaconda3\\lib\\site-packages (from requests->pywhatkit) (4.0.0)\n",
      "Requirement already satisfied: idna<3,>=2.5 in c:\\programdata\\anaconda3\\lib\\site-packages (from requests->pywhatkit) (2.10)\n",
      "Requirement already satisfied: urllib3<1.27,>=1.21.1 in c:\\programdata\\anaconda3\\lib\\site-packages (from requests->pywhatkit) (1.26.4)\n",
      "Requirement already satisfied: beautifulsoup4 in c:\\programdata\\anaconda3\\lib\\site-packages (from wikipedia->pywhatkit) (4.9.3)\n",
      "Requirement already satisfied: soupsieve>1.2 in c:\\programdata\\anaconda3\\lib\\site-packages (from beautifulsoup4->wikipedia->pywhatkit) (2.2.1)\n",
      "Building wheels for collected packages: pyautogui, pygetwindow, pyscreeze, PyTweening, mouseinfo, pymsgbox, pyperclip, pyrect, wikipedia\n",
      "  Building wheel for pyautogui (setup.py): started\n",
      "  Building wheel for pyautogui (setup.py): finished with status 'done'\n",
      "  Created wheel for pyautogui: filename=PyAutoGUI-0.9.53-py3-none-any.whl size=36583 sha256=5ab7a5c61b76476cebae7a4d836217e62170c24bee63fa7c03634712eba43eb7\n",
      "  Stored in directory: c:\\users\\akash\\appdata\\local\\pip\\cache\\wheels\\54\\04\\f7\\55704a9d374ed923785a4fdc0ef00151fa25306b3b93345532\n",
      "  Building wheel for pygetwindow (setup.py): started\n",
      "  Building wheel for pygetwindow (setup.py): finished with status 'done'\n",
      "  Created wheel for pygetwindow: filename=PyGetWindow-0.0.9-py3-none-any.whl size=11078 sha256=4f412582dc8f01b656c701bfa23f4f51c151986c572ba5df3b6c988fb34c5707\n",
      "  Stored in directory: c:\\users\\akash\\appdata\\local\\pip\\cache\\wheels\\91\\e3\\04\\184bda98ec7f7d5f0ba1f372bcf7b3ba86325151ae1dd690fe\n",
      "  Building wheel for pyscreeze (PEP 517): started\n",
      "  Building wheel for pyscreeze (PEP 517): finished with status 'done'\n",
      "  Created wheel for pyscreeze: filename=PyScreeze-0.1.28-py3-none-any.whl size=13023 sha256=ce18a5fb6c282b1c429ceff77512a8c1f65eae00f5bec32dc939986c28908318\n",
      "  Stored in directory: c:\\users\\akash\\appdata\\local\\pip\\cache\\wheels\\b1\\b0\\5c\\9fb5beb2d6c708479a670e92f4ab3b54523a15c9cd4a46e24e\n",
      "  Building wheel for PyTweening (setup.py): started\n",
      "  Building wheel for PyTweening (setup.py): finished with status 'done'\n",
      "  Created wheel for PyTweening: filename=pytweening-1.0.4-py3-none-any.whl size=5825 sha256=b44ea7048504341155d85cdac0bbd01c565275cd4f63ae949ed9d039659ed070\n",
      "  Stored in directory: c:\\users\\akash\\appdata\\local\\pip\\cache\\wheels\\a2\\1b\\69\\dc477653ccc19228bf53af76c623e4e82e5dc1b6f78d5c4d35\n",
      "  Building wheel for mouseinfo (setup.py): started\n",
      "  Building wheel for mouseinfo (setup.py): finished with status 'done'\n",
      "  Created wheel for mouseinfo: filename=MouseInfo-0.1.3-py3-none-any.whl size=10905 sha256=d42cfcae9fb4bb8df14a970ac61e8ff467621c4dae9572e4d82e211028d589d7\n",
      "  Stored in directory: c:\\users\\akash\\appdata\\local\\pip\\cache\\wheels\\d1\\72\\fb\\35f403de66285df8ecca7049bcc61bfb57aba0f76d1f08f7eb\n",
      "  Building wheel for pymsgbox (PEP 517): started\n",
      "  Building wheel for pymsgbox (PEP 517): finished with status 'done'\n",
      "  Created wheel for pymsgbox: filename=PyMsgBox-1.0.9-py3-none-any.whl size=7420 sha256=5ad53642a1574533acf3bd0b755e46bf9408e9745061a221c8edbec6fcaf99c5\n",
      "  Stored in directory: c:\\users\\akash\\appdata\\local\\pip\\cache\\wheels\\91\\28\\0d\\f4eb606d38276836237d6dc2abf094241e6db5682a126e0389\n",
      "  Building wheel for pyperclip (setup.py): started\n",
      "  Building wheel for pyperclip (setup.py): finished with status 'done'\n",
      "  Created wheel for pyperclip: filename=pyperclip-1.8.2-py3-none-any.whl size=11107 sha256=60b3a9faf6eaf09a96fc8eedb0ea52980674cd59e3f2fdd131db487fadfba2a4\n",
      "  Stored in directory: c:\\users\\akash\\appdata\\local\\pip\\cache\\wheels\\7f\\1a\\65\\84ff8c386bec21fca6d220ea1f5498a0367883a78dd5ba6122\n",
      "  Building wheel for pyrect (setup.py): started\n",
      "  Building wheel for pyrect (setup.py): finished with status 'done'\n",
      "  Created wheel for pyrect: filename=PyRect-0.1.4-py2.py3-none-any.whl size=9547 sha256=81bc930c7624a5336a92cf0d3e8ef1fff33b15160aed79888482a3c36f7094ca\n",
      "  Stored in directory: c:\\users\\akash\\appdata\\local\\pip\\cache\\wheels\\d1\\e4\\47\\c62f8291b16b6df7e89ac885881ff71f35ca04c6e384251de9\n",
      "  Building wheel for wikipedia (setup.py): started\n",
      "  Building wheel for wikipedia (setup.py): finished with status 'done'\n",
      "  Created wheel for wikipedia: filename=wikipedia-1.4.0-py3-none-any.whl size=11686 sha256=ffdff40730694802494b00134b5c31b0f5f6bd98072e658d8a96cc54225a75a7\n",
      "  Stored in directory: c:\\users\\akash\\appdata\\local\\pip\\cache\\wheels\\07\\93\\05\\72c05349177dca2e0ba31a33ba4f7907606f7ddef303517c6a\n",
      "Successfully built pyautogui pygetwindow pyscreeze PyTweening mouseinfo pymsgbox pyperclip pyrect wikipedia\n",
      "Installing collected packages: pyrect, pyperclip, PyTweening, pyscreeze, pymsgbox, pygetwindow, mouseinfo, wikipedia, pyautogui, pywhatkit\n",
      "Successfully installed PyTweening-1.0.4 mouseinfo-0.1.3 pyautogui-0.9.53 pygetwindow-0.0.9 pymsgbox-1.0.9 pyperclip-1.8.2 pyrect-0.1.4 pyscreeze-0.1.28 pywhatkit-5.1 wikipedia-1.4.0\n",
      "\n"
     ]
    }
   ],
   "source": [
    "pip install pywhatkit"
   ]
  },
  {
   "cell_type": "code",
   "execution_count": 36,
   "id": "6a1a13af",
   "metadata": {},
   "outputs": [
    {
     "name": "stdout",
     "output_type": "stream",
     "text": [
      "Listening....\n",
      "pallavi do you love me\n"
     ]
    }
   ],
   "source": [
    "import speech_recognition as sr\n",
    "# speech_recognition is used to recognise the voice as text \n",
    "\n",
    "import pyttsx3\n",
    "# pyttsx3 is used to get and set the voice (set contain two index 1st one is voice of man and 2nd one is voice of women)\n",
    "\n",
    "import pywhatkit\n",
    "# pywhatkit is used to play content on you tube\n",
    "\n",
    "import datetime\n",
    "# datetime is used to give  the information about current time and date\n",
    "\n",
    "import wikipedia\n",
    "# wikipedia is used to access the information from the wikipedia\n",
    "\n",
    "\n",
    "listerner=sr.Recognizer() \n",
    "engine=pyttsx3.init()\n",
    "voices=engine.getProperty('voices')\n",
    "engine.setProperty('voice',voices[1].id)\n",
    "engine.say('Hello i am your alexa')\n",
    "engine.say('What can i do for you?')\n",
    "\n",
    "def talk(text):\n",
    "    engine.say(text)\n",
    "    engine.runAndWait()\n",
    "engine.runAndWait()\n",
    "\n",
    "# Here talk function is used to say the text by engine\n",
    "\n",
    "def take_command():\n",
    "    try:\n",
    "        with sr.Microphone() as source:\n",
    "            print(\"Listening....\")\n",
    "            voice=listerner.listen(source)\n",
    "            command=listerner.recognize_google(voice)\n",
    "            command=command.lower()\n",
    "            if 'alexa' in command:\n",
    "                command=command.replace('alexa',\"\")\n",
    "                print(command)\n",
    "    except:\n",
    "        talk(\"alexa is not recognising you\")\n",
    "\n",
    "    return command\n",
    "def run_alexa():\n",
    "    command=take_command()\n",
    "    print(command)\n",
    "    if \"play\" in command:\n",
    "        song=command.replace('play',\" \")\n",
    "        talk('playing'+song)\n",
    "        pywhatkit.playonyt(song)\n",
    "    elif 'time' in command:\n",
    "        time=datetime.datetime.now().strftime('%I %M %p')\n",
    "        print(time)\n",
    "        talk(\"current time is\"+ time)\n",
    "    elif 'search' in command:\n",
    "        person=command.replace('search',\" \")\n",
    "        info=wikipedia.summary(person,3)\n",
    "        print(info)\n",
    "        talk(info)\n",
    "    elif 'are you single' in command:\n",
    "        talk('I am in relationship with chandan and do not think about me just focus on python project')\n",
    "    elif 'alexa do you love me' in command:\n",
    "        talk('Yes i love u akash')\n",
    "        \n",
    "run_alexa()"
   ]
  },
  {
   "cell_type": "code",
   "execution_count": 31,
   "id": "fe0471e3",
   "metadata": {},
   "outputs": [
    {
     "name": "stdout",
     "output_type": "stream",
     "text": [
      "Requirement already satisfied: cowsay in c:\\programdata\\anaconda3\\lib\\site-packages (4.0)\n",
      "Note: you may need to restart the kernel to use updated packages.\n"
     ]
    }
   ],
   "source": [
    "pip install cowsay"
   ]
  },
  {
   "cell_type": "code",
   "execution_count": 27,
   "id": "33d415c5",
   "metadata": {},
   "outputs": [
    {
     "name": "stdout",
     "output_type": "stream",
     "text": [
      "  _________\n",
      "| Hi Deamon |\n",
      "  =========\n",
      "                 \\\n",
      "                  \\\n",
      "                   \\\n",
      "                    \\\n",
      "                     /- _  `-/  '\n",
      "                    (/\\/ \\ \\   /\\\n",
      "                    / /   | `    \\\n",
      "                    O O   ) /    |\n",
      "                    `-^--'`<     '\n",
      "                   (_.)  _  )   /\n",
      "                    `.___/`    /\n",
      "                      `-----' /\n",
      "         <----.     __ / __   \\\n",
      "         <----|====O)))==) \\) /====\n",
      "         <----'    `--' `.__,' \\\n",
      "                      |        |\n",
      "                       \\       /\n",
      "                 ______( (_  / \\______\n",
      "               ,'  ,-----'   |        \\\n",
      "               `--{__________)        \\/\n"
     ]
    }
   ],
   "source": [
    "import cowsay\n",
    "cowsay.daemon(\"Hi Deamon\")"
   ]
  },
  {
   "cell_type": "code",
   "execution_count": null,
   "id": "031aa6e6",
   "metadata": {},
   "outputs": [],
   "source": []
  }
 ],
 "metadata": {
  "kernelspec": {
   "display_name": "Python 3",
   "language": "python",
   "name": "python3"
  },
  "language_info": {
   "codemirror_mode": {
    "name": "ipython",
    "version": 3
   },
   "file_extension": ".py",
   "mimetype": "text/x-python",
   "name": "python",
   "nbconvert_exporter": "python",
   "pygments_lexer": "ipython3",
   "version": "3.8.8"
  }
 },
 "nbformat": 4,
 "nbformat_minor": 5
}
